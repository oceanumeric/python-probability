{
 "cells": [
  {
   "cell_type": "markdown",
   "metadata": {},
   "source": [
    "## Events and Probabilities\n",
    "\n",
    "Key definitions: \n",
    "- sample sapce $\\Omega$\n",
    "- $\\sigma$-field $\\mathcal{F}$\n",
    "- probability measure $\\mathbb{P}$ on $(\\Omega, \\mathcal{F})$\n",
    "- probability space $(\\Omega, \\mathcal{F}, \\mathbb{P})$\n"
   ]
  },
  {
   "cell_type": "markdown",
   "metadata": {},
   "source": [
    "### Sample and Counting\n",
    "\n",
    "`Birthday problem`: there are k people in the room, assume people's birthdays are independent. What's the probability that at least one pair of people in the group have the same birthday?\n",
    "\n",
    "Let's count the complement: the number of ways to assign birthdays to k people such that no two people share a birthday. This amounts to sampling the 365 days of the year _without_ replacement. Therefore the probability of no birthday mathces in a group of k people is:\n",
    "$$P(\\text{no  match}) = \\frac{365\\cdot 364 \\cdots (365-k+1)}{365^k}$$, which means that each one takes a day off (or take a position of one day). And the probability of at least one birthday match is:\n",
    "$$P(\\text{at least 1 birthday match}) = 1 - P(\\text{no match})$$\n",
    "\n",
    "`de Montmort's matching problem`: we can use _inclusion-exclusion_ to solve it:\n",
    "$$P(\\cup_{i=1}^n A_i) = \\sum_{i}P(A_i) - \\sum_{i<j}P(A_i \\cap A_j) + \\sum_{i<j<k}P(A_i\\cap A_j \\cap A_k) - \\cdots + (-1)^{n+1}P(A_1 \\cap \\cdots \\cap A_n)$$ \n",
    "\n",
    "\n",
    "`Taylor seires` of a real or complex-valued function $f(x)$ that is _infinitely differentiable_ at a number $a$ is:\n",
    "$$\\sum_{n=0}^\\infty \\frac{f^{(n)}(a)}{n!}(x-a)^n$$"
   ]
  },
  {
   "cell_type": "code",
   "execution_count": 1,
   "metadata": {},
   "outputs": [],
   "source": [
    "# import all essential packages\n",
    "import math\n",
    "import numpy as np\n",
    "import matplotlib.pyplot as plt\n",
    "import sympy as sy\n",
    "from sympy.functions import sin, cos, ln\n",
    "import matplotlib.pyplot as plt"
   ]
  },
  {
   "cell_type": "code",
   "execution_count": 3,
   "metadata": {
    "collapsed": true
   },
   "outputs": [
    {
     "data": {
      "text/latex": [
       "$\\displaystyle - \\frac{x}{4} + \\frac{\\left(x - 5\\right)^{6}}{24576} - \\frac{\\left(x - 5\\right)^{5}}{5120} + \\frac{\\left(x - 5\\right)^{4}}{1024} - \\frac{\\left(x - 5\\right)^{3}}{192} + \\frac{\\left(x - 5\\right)^{2}}{32} - \\log{\\left(4 \\right)} + \\frac{5}{4} + i \\pi$"
      ],
      "text/plain": [
       "-x/4 + (x - 5)**6/24576 - (x - 5)**5/5120 + (x - 5)**4/1024 - (x - 5)**3/192 + (x - 5)**2/32 - log(4) + 5/4 + I*pi"
      ]
     },
     "execution_count": 3,
     "metadata": {},
     "output_type": "execute_result"
    },
    {
     "data": {
      "image/png": "[encoded data removed]",
      "text/plain": [
       "<Figure size 576x360 with 1 Axes>"
      ]
     },
     "metadata": {
      "needs_background": "light"
     },
     "output_type": "display_data"
    }
   ],
   "source": [
    "# sampling with replacement\n",
    "np.random.choice(10, 3)\n",
    "letters = ['a', 'b', 'c', 'd', 'e', 'f', 'g']\n",
    "np.random.choice(letters, 3)\n",
    "\n",
    "# sampling without replacement\n",
    "np.random.choice(10, 3, replace=False)\n",
    "np.random.choice(letters, 3, replace=False)\n",
    "\n",
    "# permutation\n",
    "np.random.permutation(10)\n",
    "arr = np.arange(9).reshape((3, 3))\n",
    "np.random.permutation(arr)\n",
    "\n",
    "# n choose k \n",
    "math.comb(5, 2)\n",
    "\n",
    "# factorial\n",
    "math.factorial(5)\n",
    "\n",
    "# birthday problem function 1 \n",
    "def birth_match(k):\n",
    "    # wanring: this function is not vectorilized\n",
    "    vl = math.factorial(365)/math.factorial(365-k)\n",
    "    p_no_match = vl/(365**k)\n",
    "    p_math = 1 - p_no_match\n",
    "    return p_math\n",
    "\n",
    "birth_match(22)\n",
    "\n",
    "def birth_match(k):\n",
    "    k = float(k)  # it's very important to convert k as float, otherwise np.prod() will return the negative value\n",
    "    # however, using floats will lose precision.\n",
    "    vl = np.arange(365-k+1, 366) \n",
    "    p_no_match = np.prod(vl)/(365**k)\n",
    "    p_math = 1 - p_no_match\n",
    "    return p_math\n",
    "\n",
    "birth_match(22)\n",
    "\n",
    "# np.prod explode\n",
    "np.prod(np.array(np.arange(365-23+1, 366)))\n",
    "\n",
    "# plot the birthday match function\n",
    "import matplotlib.pyplot as plt\n",
    "kdays = np.arange(0, 100)\n",
    "prob = []\n",
    "for k in kdays:\n",
    "    prob.append(birth_match(k))\n",
    "plt.figure(figsize=(8, 5))\n",
    "plt.plot(kdays, prob)\n",
    "plt.axhline(y=0.5,color='r')\n",
    "\n",
    "# de montmor's matching problem simulation\n",
    "n = 100 # 100 cards\n",
    "prob_list = []\n",
    "trails = 10000\n",
    "for _ in range(trails):  # do 10 thousands times\n",
    "    res = sum(np.random.choice(n, n, replace=False) == np.arange(100))\n",
    "    prob_list.append(res)\n",
    "sum(np.array(prob_list)>=1)/trails\n",
    "\n",
    "1-1/math.e  # should be closed to this number\n",
    "\n",
    "\n",
    "# Taylor Series\n",
    "def taylor(function, x0, n, x=sy.Symbol('x')):\n",
    "    # does not work for sin or cos as you need convert to float with pi\n",
    "    i = 0 \n",
    "    p = 0 \n",
    "    while i <= n:\n",
    "        p = p + (function.diff(x, i).subs(x, x0))/(math.factorial(i))*(x - x0)**i\n",
    "        i += 1\n",
    "    return p\n",
    "\n",
    "# Define the variable and the function to approximate\n",
    "x = sy.Symbol('x')\n",
    "x = 1/(1-x)\n",
    "taylor(x, 5, 6)\n",
    "x = ln(x)\n",
    "taylor(x, 5, 6)"
   ]
  },
  {
   "cell_type": "code",
   "execution_count": null,
   "metadata": {},
   "outputs": [],
   "source": []
  }
 ],
 "metadata": {
  "kernelspec": {
   "display_name": "Python 3",
   "language": "python",
   "name": "python3"
  },
  "language_info": {
   "codemirror_mode": {
    "name": "ipython",
    "version": 3
   },
   "file_extension": ".py",
   "mimetype": "text/x-python",
   "name": "python",
   "nbconvert_exporter": "python",
   "pygments_lexer": "ipython3",
   "version": "3.8.5"
  }
 },
 "nbformat": 4,
 "nbformat_minor": 2
}
