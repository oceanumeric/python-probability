{
 "metadata": {
  "language_info": {
   "codemirror_mode": {
    "name": "ipython",
    "version": 3
   },
   "file_extension": ".py",
   "mimetype": "text/x-python",
   "name": "python",
   "nbconvert_exporter": "python",
   "pygments_lexer": "ipython3",
   "version": "3.8.5-final"
  },
  "orig_nbformat": 2,
  "kernelspec": {
   "name": "python3",
   "display_name": "Python 3.8.5 64-bit ('pyfinance')",
   "metadata": {
    "interpreter": {
     "hash": "2e9997a74c05648347465b7dbd84bcb5d10e7dab1256bcba193691ec12ee0217"
    }
   }
  }
 },
 "nbformat": 4,
 "nbformat_minor": 2,
 "cells": [
  {
   "source": [
    "# Joint Distributions\n",
    "\n",
    "The _joint_ CDF of random varialbes $X, Y$ is the fuction $F_{X, Y}$ given by\n",
    "$$F_{X, Y}(x, y) = P(X \\leq x, Y \\leq y )$$\n",
    "The _joint_ PMF of discrete random variables $X, Y$ is the function $p_{X, Y}$ given by\n",
    "$$p_{X, Y}(x, y) = P(X = x, Y = y)$$\n",
    "\n",
    "The conditional PMF of $Y$ given $X = x$ is \n",
    "$$P(Y = y |X = x) = \\frac{P(X = x, Y = y)}{P(X=x)}$$\n",
    "\n",
    "If $X$ and $Y$ are continuous with joint CDF $F_{X, Y}$ their joint PDF is the derivative of the joint CDF with respect to $x$ and $y$:\n",
    "$$f_{X, Y}(x, y) = \\frac{\\partial^2}{\\partial x \\partial y}F_{X, Y}(x, y)$$\n",
    "\n",
    "The _marginal_ PDF of $X$ is\n",
    "$$f_X(x) = \\int_{-\\infty}^\\infty f_{X, Y}(x, y) dy$$\n",
    "\n",
    "The conditional PDF of $Y$ given $X = x$ is\n",
    "$$f_{Y|X}(y|x) = \\frac{f_{X, Y}(x, y)}{f_X(x)}$$\n",
    "\n",
    "You should also know:\n",
    "\n",
    "* covariance\n",
    "* correlation\n"
   ],
   "cell_type": "markdown",
   "metadata": {}
  },
  {
   "source": [
    "# Transformations \n",
    "\n",
    "The goal is to find the distribution of the transformed random variable or joint distribution of the transformed random vector. Transformations of random variables appear all over the place in statistics. Here are a few examples:\n",
    "\n",
    "* unit conversion, such as, $Y = a X + b$\n",
    "* sums and averages as summaries"
   ],
   "cell_type": "markdown",
   "metadata": {}
  },
  {
   "source": [
    "Let $X$ be a continuous random variable with PDF $f_X$, and let $Y = g(X)$, where $g$ is differentiable and strictly increasing. Then the PDF of $Y$ is given by\n",
    "$$f_Y(y) = f_X(x) |\\frac{dx}{dy}|$$\n",
    "\n",
    "The change of variables formula (in the strictly increasing $g$ case) is easy to remeber when written in the form\n",
    "$$f_Y(y)dy = f_X(x) dx$$"
   ],
   "cell_type": "markdown",
   "metadata": {}
  },
  {
   "source": [
    "## Beta Distribution\n",
    "\n",
    "An random variable $X$ is said to have the _Beta distribution_ with parameters $a$ and $b$, where $a>0$ and $b>0$, if its PDF is\n",
    "$$f(x) = \\frac{1}{\\beta(a, b)}x^{a-1}(1-x)^{b-1}, \\ \\ 0< x < 1$$\n",
    "where the constant $\\beta(a, b)$ is chosen to make the PDF integrate to 1. "
   ],
   "cell_type": "markdown",
   "metadata": {}
  },
  {
   "source": [
    "## Gamma Distribution\n",
    "\n",
    "An random variable $Y$ is said to have the _Gamma distribution_ with parameters $a$ and $\\lambda$, where $a>0$ and $\\lambda >0$, if its PDF is\n",
    "$$f(y) = \\frac{1}{\\Gamma(a)} (\\lambda y)^a e^{-\\lambda y} \\frac{1}{y}, \\ \\ y > 0$$\n",
    "\n",
    "In the Poisson process story, $a$ is the number of success we are waiting for, and $\\lambda$ is the _rate_ at which success arrive; $Y \\sim Gamma(a, \\lambda)$ is the total waiting time for the $a$th arrival in a Poisson process of rate $\\lambda$. "
   ],
   "cell_type": "markdown",
   "metadata": {}
  },
  {
   "source": [
    "## Gamma-Poisson conjugacy\n",
    "\n",
    "In Blotchville, buses arrive at a certain bus stop according to a Poisson process with rate λ buses per hour, where λ is unknown. Based on his very memorable adventures in Blotchville, Fred quantifies his uncertainty about λ using the prior λ ∼ Gamma($r_0,b_0$), where $r_0$ and $b_0$ are known, positive constants with $r_0$ an integer.\n"
   ],
   "cell_type": "markdown",
   "metadata": {}
  },
  {
   "source": [
    "## Beta-Gamma Connections\n",
    "\n",
    "While running errands, you need to go to the bank, then to the post office. Let X ∼ Gamma(a, λ) be your waiting time in line at the bank, and let Y ∼ Gamma(b,λ) be your waiting time in line at the post office (with the same λ for both). Assume X and Y are independent. What is the joint distribution of T = X + Y (your total wait at the bank and post office) and W = X (the fraction of your waiting time spent at the bank)?"
   ],
   "cell_type": "markdown",
   "metadata": {}
  },
  {
   "source": [
    "## Understanding the beta distribution\n",
    "\n",
    "In short, the beta distribution can be understood as representing a probability distribution of probabilities- that is, it represents all the possible values of a probability when we don’t know what that probability is, but we have some reasonable guesses."
   ],
   "cell_type": "markdown",
   "metadata": {}
  },
  {
   "cell_type": "code",
   "execution_count": 1,
   "metadata": {},
   "outputs": [],
   "source": [
    "import numpy as np\n",
    "import matplotlib.pyplot as plt\n",
    "import scipy.stats as ss"
   ]
  },
  {
   "cell_type": "code",
   "execution_count": null,
   "metadata": {},
   "outputs": [],
   "source": [
    "def plot_beta(x_range, a, b, mu=0, sigma=1, cdf=False, **kwargs):\n",
    "    x = x_range\n",
    "    if cdf:\n",
    "        y = ss.beta.cdf(x, a, b, mu, sigma)\n",
    "    else:\n",
    "        y = ss.beta.pdf(x, a, b, mu, sigma)\n",
    "    plt.plot(x, y, **kwargs)"
   ]
  },
  {
   "source": [
    "## References\n",
    "\n",
    "* Understanding the beta distribution (using baseball statistics) by [David Robinson](http://varianceexplained.org/statistics/beta_distribution_and_baseball/)\n",
    "\n",
    "* Batting Average | [Baseball Exaplained](https://youtu.be/vk327e2S9pE)\n"
   ],
   "cell_type": "markdown",
   "metadata": {}
  }
 ]
}