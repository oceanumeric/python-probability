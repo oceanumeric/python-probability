{
 "cells": [
  {
   "cell_type": "markdown",
   "id": "short-albuquerque",
   "metadata": {},
   "source": [
    "# Finite Markov Chains\n",
    "\n",
    "Markov chains are one of the most useful classes of stochastic processes, being\n",
    "\n",
    "* simple, flexible and supported by many elegant theoretical results\n",
    "* valuable for building intution about random dynamic models\n",
    "* central to quantitative modeling in their own right\n",
    "\n",
    "You will find them in many of the workhorse models of economics and finance. "
   ]
  },
  {
   "cell_type": "code",
   "execution_count": 3,
   "id": "asian-projection",
   "metadata": {},
   "outputs": [],
   "source": [
    "import quantecon as qe\n",
    "import numpy as np\n",
    "from mpl_toolkits.mplot3d import Axes3D\n",
    "import matplotlib.pyplot as plt\n",
    "%matplotlib inline"
   ]
  },
  {
   "cell_type": "markdown",
   "id": "demanding-sterling",
   "metadata": {},
   "source": [
    "### Stochastic Matrices\n",
    "\n",
    "A __stochastic matrix (or Markov matrix)__ is an $n \\times n$ square matrix $P$ such that\n",
    "\n",
    "1. each element of $P$ is nonnegative, and\n",
    "2. each row of $P$ sums to one\n",
    "\n",
    "Each row of $P$ can be regarded as a probability mass function over $n$ possible outcomes.There is a close connection between stochastic matrices and Markov chains. Let $S$ be a finite set with $n$ elements $\\{x_1, \\cdots, x_n\\}$. The set $S$ is called the __state space__ and $x_1, \\cdots, x_n$ are the __state values__. \n",
    "\n",
    "A __Markov chain__ $\\{X_t\\}$ on $S$ is a sequence of random variables on $S$ that have the __Markon proeprty__. This means that, for any date $t$ and any state $y \\in S$, \n",
    "\n",
    "$$P\\{X_{t+1} = y | X_t \\} = P\\{X_{t+1} = y | X_t, X_{t-1}, \\cdots \\}$$\n",
    "\n",
    "In other words, knowing the current state is enough to know probabilities for future states.In particular, the dynamics of a Markov chain are fully determined by the set of values:\n",
    "\n",
    "$$P(x, y) := P\\{X_{t+1} = y | X_t = x \\} \\ \\ \\ (x, y \\in S ) $$\n",
    "\n",
    "By construction, \n",
    "\n",
    "* $P(x, y)$ is the probability of going from $x$ to $y$ in one unit of time (one step)\n",
    "* $P(x, \\cdot)$ is the conditional distribution of $X_{t+1}$ given $X_t = x$. \n",
    "\n",
    "We can view $P$ as a stochastic matrix where\n",
    "\n",
    "$$P_{ij} = P(x_i, x_j) \\ \\ \\  1 \\leq i, j \\leq n $$\n",
    "\n",
    "Going the other way, if we take a stochastic matrix $P$, we can generate a Markov chain $\\{X_t\\}$ as follows:\n",
    "\n",
    "* draw $X_0$ from some specified distribution. \n",
    "* for each $t=0, 1, \\cdots, $ draw $X_{t+1}$ from $P(X_t, \\cdot)$"
   ]
  },
  {
   "cell_type": "markdown",
   "id": "swiss-irish",
   "metadata": {},
   "source": [
    "### Example: employed status\n",
    "\n",
    "Consider a worker who, at any time $t$, is either unemployed (state 0) or employed (state 1). Suppose that, over a one month period, \n",
    "\n",
    "1. An unemployed workers finds a job with probability $\\alpha \\in (0, 1)$.\n",
    "2. An employed worker loses job and becomes unemployed with probability $\\beta \\in (0, 1)$. \n",
    "\n",
    "In terms of a Markov model, we have \n",
    "\n",
    "* $S = \\{0, 1\\}$\n",
    "* $P(0, 1) = \\alpha $ and $P(1, 0) = \\beta$\n",
    "\n",
    "We can write out the transition probabilities in matrix form as \n",
    "\n",
    "$$ P = \\begin{pmatrix} 1 - \\alpha & \\alpha \\\\\n",
    "\\beta & 1- \\beta \\end{pmatrix} $$\n",
    "\n",
    "Once we have the values $\\alpha$ and $\\beta$, we can address a range of questions, such as \n",
    "\n",
    "* whhat is the average duration of unemployment ?\n",
    "* Over the long-run, what fraction of time does a worker find herself unemployed ?\n",
    "* Conditional on employment, what is the probability of becoming unemployed at least once over the next 12 months ?"
   ]
  },
  {
   "cell_type": "markdown",
   "id": "processed-parker",
   "metadata": {},
   "source": [
    "### Example: economic growth and recession\n",
    "\n",
    "Using US unemployment data, Hamilton estimated the stochastic matrix\n",
    "\n",
    "$$P = \\begin{pmatrix} 0.971 & 0.029 & 0 \\\\\n",
    "0.145 & 0.778 & 0.077 \\\\\n",
    "0 & 0.508 & 0.492 \\end{pmatrix} $$\n",
    "\n",
    "where\n",
    "\n",
    "* the frequency is monthly\n",
    "* the first state represents “normal growth”\n",
    "* the second state represents “mild recession”\n",
    "* the third state represents “severe recession”\n",
    "\n",
    "For example, the matrix tells us that when the state is normal growth, the state will again be normal growth next month with probability 0.97. In general, large values on the main diagonal indicate persistence in the process $\\{X_t\\}$."
   ]
  },
  {
   "cell_type": "code",
   "execution_count": 6,
   "id": "demonstrated-thunder",
   "metadata": {},
   "outputs": [
    {
     "data": {
      "text/plain": [
       "array([1, 0, 1, 1, 0])"
      ]
     },
     "execution_count": 6,
     "metadata": {},
     "output_type": "execute_result"
    }
   ],
   "source": [
    "# simulation\n",
    "\n",
    "\n",
    "sprob = (0.3, 0.7)  # probabilities over {0, 1}\n",
    "cdf = np.cumsum(sprob)  # convert into cumulative distribution\n",
    "qe.random.draw(cdf, 5)  # generate 5 independent draws from sprob"
   ]
  },
  {
   "cell_type": "code",
   "execution_count": 7,
   "id": "isolated-guyana",
   "metadata": {},
   "outputs": [],
   "source": [
    "def mc_sample_path(P, initial_state = None, sample_size = 1_000):\n",
    "    \n",
    "    # set up\n",
    "    P = np.asarray(P)\n",
    "    X = np.empty(sample_size, dtype=int)\n",
    "    \n",
    "    # convert each row of P into a cdf\n",
    "    n = len(P)\n",
    "    P_dist = [np.cumsum(P[i, :]) for i in range(n)]\n",
    "    \n",
    "    # draw initial state, defaulting to 0\n",
    "    if initial_state is not None:\n",
    "        X_0 = qe.random.draw(np.cumsum(initial_state))\n",
    "    else:\n",
    "        X_0 = 0\n",
    "    X[0] = X_0\n",
    "    for t in range(sample_size - 1):\n",
    "        X[t+1] = qe.random.draw(P_dist[X[t]])\n",
    "    \n",
    "    return X"
   ]
  },
  {
   "cell_type": "code",
   "execution_count": 8,
   "id": "unexpected-shannon",
   "metadata": {},
   "outputs": [
    {
     "data": {
      "text/plain": [
       "0.24895"
      ]
     },
     "execution_count": 8,
     "metadata": {},
     "output_type": "execute_result"
    }
   ],
   "source": [
    "P = [[0.4, 0.6], [0.2, 0.8]]\n",
    "X = mc_sample_path(P, initial_state=[0.1, 0.9], sample_size = 100_000)\n",
    "np.mean(X == 0)"
   ]
  },
  {
   "cell_type": "markdown",
   "id": "naughty-morgan",
   "metadata": {},
   "source": [
    "For a long series drawn from P, the fraction of the sample that takes value 0 will be about 0.25.Moreover, this is true, regardless of the initial distribution from with $X_0$ is drawn. It shows the process of converging."
   ]
  },
  {
   "cell_type": "code",
   "execution_count": 9,
   "id": "quick-conjunction",
   "metadata": {},
   "outputs": [
    {
     "data": {
      "text/plain": [
       "0.249748"
      ]
     },
     "execution_count": 9,
     "metadata": {},
     "output_type": "execute_result"
    }
   ],
   "source": [
    "# using quantecon's routines\n",
    "\n",
    "from quantecon import MarkovChain\n",
    "\n",
    "mc = qe.MarkovChain(P)\n",
    "X = mc.simulate(ts_length=1_000_000)\n",
    "np.mean(X == 0)"
   ]
  },
  {
   "cell_type": "code",
   "execution_count": 10,
   "id": "functioning-prize",
   "metadata": {},
   "outputs": [
    {
     "name": "stdout",
     "output_type": "stream",
     "text": [
      "CPU times: user 803 ms, sys: 2.88 ms, total: 806 ms\n",
      "Wall time: 805 ms\n"
     ]
    },
    {
     "data": {
      "text/plain": [
       "array([0, 0, 1, ..., 1, 1, 1])"
      ]
     },
     "execution_count": 10,
     "metadata": {},
     "output_type": "execute_result"
    }
   ],
   "source": [
    "%time mc_sample_path(P, sample_size=1_000_000) # Our version"
   ]
  },
  {
   "cell_type": "code",
   "execution_count": 11,
   "id": "caring-placement",
   "metadata": {},
   "outputs": [
    {
     "name": "stdout",
     "output_type": "stream",
     "text": [
      "CPU times: user 20.9 ms, sys: 4.98 ms, total: 25.9 ms\n",
      "Wall time: 24.5 ms\n"
     ]
    },
    {
     "data": {
      "text/plain": [
       "array([1, 0, 1, ..., 0, 1, 1])"
      ]
     },
     "execution_count": 11,
     "metadata": {},
     "output_type": "execute_result"
    }
   ],
   "source": [
    "%time mc.simulate(ts_length=1_000_000) # qe version"
   ]
  },
  {
   "cell_type": "markdown",
   "id": "broad-mobility",
   "metadata": {},
   "source": [
    "If we wish to, we can provide a specification of state values to MarkovChain.These state values can be integers, floats, or even strings.The following code illustrates:"
   ]
  },
  {
   "cell_type": "code",
   "execution_count": 14,
   "id": "romantic-season",
   "metadata": {},
   "outputs": [
    {
     "data": {
      "text/plain": [
       "array(['employed', 'unemployed', 'employed', 'employed'], dtype='<U10')"
      ]
     },
     "execution_count": 14,
     "metadata": {},
     "output_type": "execute_result"
    }
   ],
   "source": [
    "mc = qe.MarkovChain(P, state_values=('unemployed', 'employed'))\n",
    "mc.simulate(ts_length=4, init='employed')"
   ]
  },
  {
   "cell_type": "code",
   "execution_count": 15,
   "id": "brilliant-order",
   "metadata": {},
   "outputs": [
    {
     "data": {
      "text/plain": [
       "array(['unemployed', 'employed', 'employed', 'employed'], dtype='<U10')"
      ]
     },
     "execution_count": 15,
     "metadata": {},
     "output_type": "execute_result"
    }
   ],
   "source": [
    "mc.simulate(ts_length=4, init='unemployed')"
   ]
  },
  {
   "cell_type": "code",
   "execution_count": 16,
   "id": "selective-overhead",
   "metadata": {},
   "outputs": [
    {
     "data": {
      "text/plain": [
       "array(['employed', 'employed', 'employed', 'employed'], dtype='<U10')"
      ]
     },
     "execution_count": 16,
     "metadata": {},
     "output_type": "execute_result"
    }
   ],
   "source": [
    "mc.simulate(ts_length=4)  # Start at randomly chosen initial state"
   ]
  },
  {
   "cell_type": "markdown",
   "id": "outside-administrator",
   "metadata": {},
   "source": [
    "### Marginal Distributions\n",
    "\n",
    "Suppose that \n",
    "\n",
    "1. $\\{X_t\\}$ is a Markov chain with stochastic matrix $P$.\n",
    "2. the distribution of $X_t$ is known to be $\\phi_t$\n",
    "\n",
    "Generally, \n",
    "\n",
    "$$X_t \\sim \\phi_t \\ \\ \\to \\ \\ X_{t+m} \\sim \\phi_t P^m $$"
   ]
  },
  {
   "cell_type": "markdown",
   "id": "nearby-national",
   "metadata": {},
   "source": [
    "### Irreducibility and Aperiodicity\n",
    "\n",
    "Irreducibility and aperiodicity are central concepts of modern Markov chain theory. Let’s see what they’re about.\n",
    "\n",
    "Two states $x$ and $y$ are said to __communicate__ with each other if there exist positive integers $j$ and $k$ such that\n",
    "\n",
    "$$P^j(x, y) > 0 \\ \\ \\ \\text{and} \\ \\ \\ P^k(y, x) > 0$$\n",
    "\n",
    "In view of our discussion above, this means precisely that\n",
    "\n",
    "* state $x$ can be reached eventually from state $y$, and \n",
    "* state $y$ can be reached eventually from state $x$\n",
    "\n",
    "The stochastic matrix $P$ is called __irreducible__ if all states communicate; that is, if $x$ and $y$ communicate for all $(x, y)$ in $S \\times S$. "
   ]
  },
  {
   "cell_type": "code",
   "execution_count": 17,
   "id": "geographic-titanium",
   "metadata": {},
   "outputs": [
    {
     "data": {
      "text/plain": [
       "True"
      ]
     },
     "execution_count": 17,
     "metadata": {},
     "output_type": "execute_result"
    }
   ],
   "source": [
    "P = [[0.9, 0.1, 0.0], [0.4, 0.4, 0.2], [0.1, 0.1, 0.8]]\n",
    "mc = qe.MarkovChain(P, ('poor', 'middle', 'rich'))\n",
    "mc.is_irreducible"
   ]
  },
  {
   "cell_type": "code",
   "execution_count": 18,
   "id": "incredible-aruba",
   "metadata": {},
   "outputs": [
    {
     "data": {
      "text/plain": [
       "False"
      ]
     },
     "execution_count": 18,
     "metadata": {},
     "output_type": "execute_result"
    }
   ],
   "source": [
    "P = [[1.0, 0.0, 0.0],\n",
    "     [0.1, 0.8, 0.1],\n",
    "     [0.0, 0.2, 0.8]]\n",
    "\n",
    "mc = qe.MarkovChain(P, ('poor', 'middle', 'rich'))\n",
    "mc.is_irreducible"
   ]
  },
  {
   "cell_type": "markdown",
   "id": "stuffed-maria",
   "metadata": {},
   "source": [
    "It might be clear to you already that irreducibility is going to be important in terms of long run outcomes.For example, poverty is a life sentence in the second graph but not the first."
   ]
  },
  {
   "cell_type": "markdown",
   "id": "provincial-launch",
   "metadata": {},
   "source": [
    "Loosely speaking, a Markov chain is called periodic if it cycles in a predictable way, and aperiodic otherwise. "
   ]
  },
  {
   "cell_type": "code",
   "execution_count": 20,
   "id": "executed-volunteer",
   "metadata": {},
   "outputs": [
    {
     "data": {
      "text/plain": [
       "3"
      ]
     },
     "execution_count": 20,
     "metadata": {},
     "output_type": "execute_result"
    }
   ],
   "source": [
    "P = [[0, 1, 0],\n",
    "     [0, 0, 1],\n",
    "     [1, 0, 0]]\n",
    "\n",
    "mc = qe.MarkovChain(P)\n",
    "mc.period"
   ]
  },
  {
   "cell_type": "code",
   "execution_count": 21,
   "id": "occasional-fusion",
   "metadata": {},
   "outputs": [
    {
     "data": {
      "text/plain": [
       "2"
      ]
     },
     "execution_count": 21,
     "metadata": {},
     "output_type": "execute_result"
    }
   ],
   "source": [
    "P = [[0.0, 1.0, 0.0, 0.0],\n",
    "     [0.5, 0.0, 0.5, 0.0],\n",
    "     [0.0, 0.5, 0.0, 0.5],\n",
    "     [0.0, 0.0, 1.0, 0.0]]\n",
    "\n",
    "mc = qe.MarkovChain(P)\n",
    "mc.period"
   ]
  },
  {
   "cell_type": "markdown",
   "id": "concrete-prophet",
   "metadata": {},
   "source": [
    "### Stationary Distributions\n",
    "\n",
    "Some distributions are invariant under this updating process. Such distributions are called __stationary__, or __invariant__. Hence stationary distributions have a natural interpretation as stochastic steady states — we’ll discuss this more in just a moment.\n",
    "\n",
    "__Theorem__. Every stochastic matrix $P$ has at least one stationary distribution."
   ]
  },
  {
   "cell_type": "code",
   "execution_count": 22,
   "id": "higher-organizer",
   "metadata": {},
   "outputs": [
    {
     "data": {
      "text/plain": [
       "array([[0.25, 0.75]])"
      ]
     },
     "execution_count": 22,
     "metadata": {},
     "output_type": "execute_result"
    }
   ],
   "source": [
    "P = [[0.4, 0.6],\n",
    "     [0.2, 0.8]]\n",
    "\n",
    "mc = qe.MarkovChain(P)\n",
    "mc.stationary_distributions  # Show all stationary distributions"
   ]
  },
  {
   "cell_type": "markdown",
   "id": "concrete-ground",
   "metadata": {},
   "source": [
    "Markov chain convergence theorem stated above tells us that the distribution of Xt converges to the stationary distribution regardless of where we start off."
   ]
  },
  {
   "cell_type": "code",
   "execution_count": 23,
   "id": "comic-teacher",
   "metadata": {},
   "outputs": [
    {
     "data": {
      "image/png": "[encoded data removed]",
      "text/plain": [
       "<Figure size 576x432 with 1 Axes>"
      ]
     },
     "metadata": {
      "needs_background": "light"
     },
     "output_type": "display_data"
    }
   ],
   "source": [
    "P = ((0.971, 0.029, 0.000),\n",
    "     (0.145, 0.778, 0.077),\n",
    "     (0.000, 0.508, 0.492))\n",
    "P = np.array(P)\n",
    "\n",
    "ψ = (0.0, 0.2, 0.8)        # Initial condition\n",
    "\n",
    "fig = plt.figure(figsize=(8, 6))\n",
    "ax = fig.add_subplot(111, projection='3d')\n",
    "\n",
    "ax.set(xlim=(0, 1), ylim=(0, 1), zlim=(0, 1),\n",
    "       xticks=(0.25, 0.5, 0.75),\n",
    "       yticks=(0.25, 0.5, 0.75),\n",
    "       zticks=(0.25, 0.5, 0.75))\n",
    "\n",
    "x_vals, y_vals, z_vals = [], [], []\n",
    "for t in range(20):\n",
    "    x_vals.append(ψ[0])\n",
    "    y_vals.append(ψ[1])\n",
    "    z_vals.append(ψ[2])\n",
    "    ψ = ψ @ P\n",
    "\n",
    "ax.scatter(x_vals, y_vals, z_vals, c='r', s=60)\n",
    "ax.view_init(30, 210)\n",
    "\n",
    "mc = qe.MarkovChain(P)\n",
    "ψ_star = mc.stationary_distributions[0]\n",
    "ax.scatter(ψ_star[0], ψ_star[1], ψ_star[2], c='k', s=60)\n",
    "\n",
    "plt.show()"
   ]
  },
  {
   "cell_type": "markdown",
   "id": "presidential-patent",
   "metadata": {},
   "source": [
    "### Pageranking\n",
    "\n",
    "Let $j$ be a typical page and $r_j$ be its ranking, we set\n",
    "\n",
    "$$r_j \\sum_{i \\in L_j} \\frac{r_i}{l_i}$$\n",
    "\n",
    "where \n",
    "\n",
    "* $l_i$ is the total number of outbound links from $i$\n",
    "* $L_j$ is the set of all pages $i$ such that $i$ has a link to $j$\n",
    "\n",
    "This is a measure of the number of inbound linds, weighted by their own ranking. There is, however, another interpretation, and it brings us back to Markov chains. \n",
    "\n",
    "Let $P$ be the matrix given by $P(i, j) = 1\\{i \\to j \\} / l_i$ if $i$ has a link to $j$ and zero otherwise. The matrix $P$ is a stochastic matrix provided that each page has at least one link.\n",
    "\n",
    "Let's think of $P(i, j)$ as the probability of \"moving\" from page i to page j. The value $P(i, j)$ has the interpretation:\n",
    "\n",
    "* $P(i, j) = 1/k$ if $i$ has $k$ outbound links and $j$ is one of them.\n",
    "* $P(i, j) = 0$ if $i$ has no direct link to $j$\n",
    "\n",
    "Thus, motion from page to page is that of a web surfer who moves from one page to another by randomly clicking on one of the links on that page. Here “random” means that each link is selected with equal probability."
   ]
  },
  {
   "cell_type": "code",
   "execution_count": 26,
   "id": "legendary-pound",
   "metadata": {},
   "outputs": [
    {
     "name": "stdout",
     "output_type": "stream",
     "text": [
      "Rankings\n",
      " ***\n",
      "g: 0.1607\n",
      "j: 0.1594\n",
      "m: 0.1195\n",
      "n: 0.1088\n",
      "k: 0.09106\n",
      "b: 0.08326\n",
      "e: 0.05312\n",
      "i: 0.05312\n",
      "c: 0.04834\n",
      "h: 0.0456\n",
      "l: 0.03202\n",
      "d: 0.03056\n",
      "f: 0.01164\n",
      "a: 0.002911\n"
     ]
    }
   ],
   "source": [
    "import re\n",
    "from operator import itemgetter\n",
    "\n",
    "infile = 'web_graph_data.txt'\n",
    "alphabet = 'abcdefghijklmnopqrstuvwxyz'\n",
    "\n",
    "n = 14  # total number of web pages (nodes)\n",
    "\n",
    "# create a matrix Q indicating existence of links\n",
    "# Q[i, j] = 1 if there is link from i to j\n",
    "# Q[i, j] = 0 otherwise\n",
    "\n",
    "Q = np.zeros((n, n), dtype = int)\n",
    "f = open(infile, 'r')\n",
    "edges = f.readlines()\n",
    "f.close()\n",
    "for edge in edges:\n",
    "    from_node, to_node = re.findall('\\w', edge)\n",
    "    i, j = alphabet.index(from_node), alphabet.index(to_node)\n",
    "    Q[i, j] = 1\n",
    "P = np.empty((n, n))\n",
    "for i in range(n):\n",
    "    P[i, :] = Q[i, :] / Q[i, :].sum()\n",
    "mc = MarkovChain(P)\n",
    "\n",
    "r = mc.stationary_distributions[0]\n",
    "ranked_pages = {alphabet[i]: r[i] for i in range(n)}\n",
    "# Print solution, sorted from highest to lowest rank\n",
    "print('Rankings\\n ***')\n",
    "for name, rank in sorted(ranked_pages.items(), key=itemgetter(1), reverse=1):\n",
    "    print(f'{name}: {rank:.4}')"
   ]
  },
  {
   "cell_type": "code",
   "execution_count": 27,
   "id": "after-rebound",
   "metadata": {},
   "outputs": [
    {
     "data": {
      "text/plain": [
       "array([0.00291071, 0.08326461, 0.04834211, 0.0305625 , 0.05312053,\n",
       "       0.01164286, 0.16070779, 0.04560118, 0.05312053, 0.15936158,\n",
       "       0.0910629 , 0.03201785, 0.11951512, 0.10876974])"
      ]
     },
     "execution_count": 27,
     "metadata": {},
     "output_type": "execute_result"
    }
   ],
   "source": [
    "r"
   ]
  },
  {
   "cell_type": "code",
   "execution_count": 28,
   "id": "thermal-evidence",
   "metadata": {},
   "outputs": [
    {
     "data": {
      "text/plain": [
       "array([[0.00291071, 0.08326461, 0.04834211, 0.0305625 , 0.05312053,\n",
       "        0.01164286, 0.16070779, 0.04560118, 0.05312053, 0.15936158,\n",
       "        0.0910629 , 0.03201785, 0.11951512, 0.10876974]])"
      ]
     },
     "execution_count": 28,
     "metadata": {},
     "output_type": "execute_result"
    }
   ],
   "source": [
    "mc.stationary_distributions"
   ]
  },
  {
   "cell_type": "code",
   "execution_count": null,
   "id": "metallic-european",
   "metadata": {},
   "outputs": [],
   "source": []
  },
  {
   "cell_type": "code",
   "execution_count": null,
   "id": "opened-scope",
   "metadata": {},
   "outputs": [],
   "source": []
  },
  {
   "cell_type": "code",
   "execution_count": null,
   "id": "still-microwave",
   "metadata": {},
   "outputs": [],
   "source": []
  },
  {
   "cell_type": "code",
   "execution_count": null,
   "id": "egyptian-cleanup",
   "metadata": {},
   "outputs": [],
   "source": []
  }
 ],
 "metadata": {
  "kernelspec": {
   "display_name": "Python 3",
   "language": "python",
   "name": "python3"
  },
  "language_info": {
   "codemirror_mode": {
    "name": "ipython",
    "version": 3
   },
   "file_extension": ".py",
   "mimetype": "text/x-python",
   "name": "python",
   "nbconvert_exporter": "python",
   "pygments_lexer": "ipython3",
   "version": "3.8.5"
  }
 },
 "nbformat": 4,
 "nbformat_minor": 5
}
